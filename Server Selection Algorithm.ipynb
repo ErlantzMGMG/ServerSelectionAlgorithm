{
 "cells": [
  {
   "cell_type": "code",
   "execution_count": 1,
   "metadata": {},
   "outputs": [],
   "source": [
    "import random as rd\n",
    "import numpy as np\n",
    "from collections import namedtuple,defaultdict\n",
    "from copy import *\n",
    "import matplotlib.pyplot as plt"
   ]
  },
  {
   "cell_type": "markdown",
   "metadata": {},
   "source": [
    "### Parameters"
   ]
  },
  {
   "cell_type": "code",
   "execution_count": 2,
   "metadata": {},
   "outputs": [
    {
     "name": "stdout",
     "output_type": "stream",
     "text": [
      "Nº of Dedicated Servers\n",
      "25\n"
     ]
    }
   ],
   "source": [
    "# Ask for number of dedicated servers\n",
    "while True:\n",
    "    try:\n",
    "        print('Nº of Dedicated Servers')\n",
    "        n_servers = int(input())\n",
    "        break\n",
    "    except ValueError:\n",
    "        pass"
   ]
  },
  {
   "cell_type": "markdown",
   "metadata": {},
   "source": [
    "Let\n",
    "- $c_j\\in\\mathcal{U}(1,90),\\;\\forall j=0,1,\\cdots,C$\n",
    "- $r_j\\in\\mathcal{U}(5,40),\\;\\forall j=0,1,\\cdots,C$\n",
    "- $\\lambda_j\\in\\mathcal{U}(1,r_j-1),\\;\\forall j=1,2,\\cdots,C$"
   ]
  },
  {
   "cell_type": "code",
   "execution_count": 3,
   "metadata": {},
   "outputs": [],
   "source": [
    "costs = [None]*(n_servers+1)\n",
    "serv_rates = [None]*(n_servers+1)\n",
    "arrival_rates = [None]*(n_servers+1)\n",
    "\n",
    "\n",
    "# Set costs and rates randomly\n",
    "rd.seed(n_servers)\n",
    "for j in range(n_servers+1):\n",
    "    c = round(rd.uniform(1,90))\n",
    "    r = np.ceil(rd.uniform(5,40))\n",
    "    costs[j] = c\n",
    "    serv_rates[j] = r\n",
    "    if j > 0:\n",
    "        arrival_rates[j] = round(rd.uniform(1,r-1))"
   ]
  },
  {
   "cell_type": "markdown",
   "metadata": {},
   "source": [
    "### Initial System"
   ]
  },
  {
   "cell_type": "code",
   "execution_count": 4,
   "metadata": {},
   "outputs": [],
   "source": [
    "# Set initial system\n",
    "Server = namedtuple('Server','cost,service_rate,arrival_rate,free_load_rate,relative_cost,delta')\n",
    "System = defaultdict(Server)\n",
    "\n",
    "# MSS\n",
    "c = costs[0]\n",
    "r = serv_rates[0]\n",
    "System[0] = Server(c,r,None,None,round(c/r,2),1)\n",
    "\n",
    "# Dedicated servers\n",
    "for n in range(1,n_servers+1):\n",
    "    cs = costs[n]\n",
    "    rs = serv_rates[n]\n",
    "    ls = arrival_rates[n]\n",
    "    flr = round(ls/rs,2)\n",
    "    rc = round(cs/rs,2)\n",
    "    delta = round(np.sqrt(rc/(c/r)),2)\n",
    "    System[n] = Server(cs,rs,ls,flr,rc,delta)"
   ]
  },
  {
   "cell_type": "markdown",
   "metadata": {},
   "source": [
    "### Functions"
   ]
  },
  {
   "cell_type": "code",
   "execution_count": 5,
   "metadata": {},
   "outputs": [],
   "source": [
    "def rho0(r0,Splus,S0):\n",
    "    ''' INPUT\n",
    "        r0   : MSS service rate\n",
    "        Splus: set of servers that share part of their load\n",
    "        S0   : set of servers that pass all of their load\n",
    "        \n",
    "        OUTPUT\n",
    "        rho_0: MSS load rate (according to formulae in last chapter) '''\n",
    "    \n",
    "    sum1 = sum([server.service_rate-server.arrival_rate for server in Splus])\n",
    "    sum2 = sum([server.arrival_rate for server in S0])\n",
    "    sum3 = sum([server.service_rate*server.delta for server in Splus])\n",
    "    rho_0 = 1-(r0+sum1-sum2)/(r0+sum3)\n",
    "    return rho_0"
   ]
  },
  {
   "cell_type": "code",
   "execution_count": 6,
   "metadata": {},
   "outputs": [],
   "source": [
    "def rhoj(server,r0,Splus,S0):\n",
    "    ''' INPUT\n",
    "        server: server  \n",
    "        r0    : MSS load rate\n",
    "        Splus : set of servers that share part of their load\n",
    "        S0    : set of servers that pass all of their load\n",
    "        \n",
    "        OUTPUT\n",
    "        rho_j : server load rate \n",
    "        '''\n",
    "    if server in S0:\n",
    "        return 0\n",
    "    elif server in Splus:\n",
    "        rho_0 = rho0(r0,Splus,S0)\n",
    "        rho_j = 1-server.delta*(1-rho_0)\n",
    "        return rho_j\n",
    "    else:\n",
    "        return server.free_load_rate"
   ]
  },
  {
   "cell_type": "code",
   "execution_count": 7,
   "metadata": {},
   "outputs": [],
   "source": [
    "def ResultingSystem(initial_system):\n",
    "    ''' INPUT\n",
    "        initial_system: servers dictionary, including MSS; each server is a tuple with the following fields\n",
    "                        - cost (c)\n",
    "                        - service rate (r)\n",
    "                        - arrival rate (lambda)\n",
    "                        - initial load (lambda/r)\n",
    "                        - relative cost (c/r)\n",
    "                        - delta (sqrt[(c/r)/(c0/r0)])\n",
    "        OUTPUT\n",
    "        Sd   : set of servers that share nothing\n",
    "        Splus: set of servers that share part of their load\n",
    "        S0   : set of servers that pass all of their load\n",
    "        '''\n",
    "    \n",
    "    n_servers = len(initial_system)\n",
    "    MSS = initial_system[0]\n",
    "    Splus = set(); S0 = set(); Sd = set()\n",
    "    \n",
    "    # If delta_j<=1-lambda_j/r_j ==> server j does not share, else server j will share\n",
    "    for server in range(1,n_servers):\n",
    "        if initial_system[server].delta <= 1-initial_system[server].free_load_rate:\n",
    "            Sd.add(initial_system[server])\n",
    "        else:\n",
    "            Splus.add(initial_system[server])\n",
    "            \n",
    "    n_change = 10\n",
    "    r0 = MSS.service_rate\n",
    "    Sc = deepcopy(Splus)\n",
    "    iteration = 0\n",
    "    \n",
    "    # Check conditions iteratively\n",
    "    while n_change > 0:\n",
    "        iteration += 1\n",
    "        n_change = 0\n",
    "        rho_0 = rho0(r0,Splus,S0)\n",
    "        M = 1/(1-rho_0)  # upper bound for all servers\n",
    "        for server in Sc:\n",
    "            Mj = (1-server.free_load_rate)/(1-rho_0) # lower bound for server j\n",
    "            # from Sd to S+\n",
    "            if server in Sd and server.delta<M and server.delta>Mj:\n",
    "                Splus.add(server)\n",
    "                Sd.remove(server)\n",
    "                n_change += 1\n",
    "            # from Sd to S0\n",
    "            elif server in Sd and server.delta>=M:\n",
    "                S0.add(server)\n",
    "                Sd.remove(server)\n",
    "                n_change += 1\n",
    "            # from S+ to S0\n",
    "            elif server in Splus and server.delta>=M:\n",
    "                S0.add(server)\n",
    "                Splus.remove(server)\n",
    "                n_change += 1\n",
    "            # from S+ to Sd\n",
    "            elif server in Splus and server.delta<=Mj:\n",
    "                Sd.add(server)\n",
    "                Splus.remove(server)\n",
    "                n_change += 1\n",
    "            # from S0 to S+\n",
    "            elif server in S0 and server.delta<M and server.delta>Mj:\n",
    "                Splus.add(server)\n",
    "                S0.remove(server)\n",
    "                n_change += 1\n",
    "            # from S0 to Sd\n",
    "            elif server in S0 and server.delta<=Mj:\n",
    "                Sd.add(server)\n",
    "                S0.remove(server)\n",
    "                n_change += 1\n",
    "    return Sd,Splus,S0,iteration"
   ]
  },
  {
   "cell_type": "markdown",
   "metadata": {},
   "source": [
    "### Run and results"
   ]
  },
  {
   "cell_type": "code",
   "execution_count": 8,
   "metadata": {},
   "outputs": [
    {
     "name": "stdout",
     "output_type": "stream",
     "text": [
      "Number of iterations required: 3\n"
     ]
    }
   ],
   "source": [
    "Sd,Splus,S0,it = ResultingSystem(System)\n",
    "print('Number of iterations required: %i' % it)"
   ]
  },
  {
   "cell_type": "code",
   "execution_count": 9,
   "metadata": {},
   "outputs": [
    {
     "data": {
      "text/plain": [
       "{Server(cost=14, service_rate=39.0, arrival_rate=15.0, free_load_rate=0.38, relative_cost=0.36, delta=0.63),\n",
       " Server(cost=15, service_rate=22.0, arrival_rate=2.0, free_load_rate=0.09, relative_cost=0.68, delta=0.86),\n",
       " Server(cost=16, service_rate=26.0, arrival_rate=16.0, free_load_rate=0.62, relative_cost=0.62, delta=0.82),\n",
       " Server(cost=24, service_rate=16.0, arrival_rate=7.0, free_load_rate=0.44, relative_cost=1.5, delta=1.28),\n",
       " Server(cost=33, service_rate=22.0, arrival_rate=3.0, free_load_rate=0.14, relative_cost=1.5, delta=1.28),\n",
       " Server(cost=37, service_rate=34.0, arrival_rate=21.0, free_load_rate=0.62, relative_cost=1.09, delta=1.09),\n",
       " Server(cost=42, service_rate=22.0, arrival_rate=5.0, free_load_rate=0.23, relative_cost=1.91, delta=1.44),\n",
       " Server(cost=46, service_rate=22.0, arrival_rate=2.0, free_load_rate=0.09, relative_cost=2.09, delta=1.51),\n",
       " Server(cost=49, service_rate=21.0, arrival_rate=7.0, free_load_rate=0.33, relative_cost=2.33, delta=1.59),\n",
       " Server(cost=51, service_rate=21.0, arrival_rate=10.0, free_load_rate=0.48, relative_cost=2.43, delta=1.62),\n",
       " Server(cost=51, service_rate=24.0, arrival_rate=4.0, free_load_rate=0.17, relative_cost=2.12, delta=1.52),\n",
       " Server(cost=53, service_rate=20.0, arrival_rate=4.0, free_load_rate=0.2, relative_cost=2.65, delta=1.7),\n",
       " Server(cost=56, service_rate=18.0, arrival_rate=2.0, free_load_rate=0.11, relative_cost=3.11, delta=1.84),\n",
       " Server(cost=57, service_rate=34.0, arrival_rate=7.0, free_load_rate=0.21, relative_cost=1.68, delta=1.35),\n",
       " Server(cost=74, service_rate=15.0, arrival_rate=2.0, free_load_rate=0.13, relative_cost=4.93, delta=2.31),\n",
       " Server(cost=80, service_rate=32.0, arrival_rate=8.0, free_load_rate=0.25, relative_cost=2.5, delta=1.65),\n",
       " Server(cost=88, service_rate=28.0, arrival_rate=4.0, free_load_rate=0.14, relative_cost=3.14, delta=1.85)}"
      ]
     },
     "execution_count": 9,
     "metadata": {},
     "output_type": "execute_result"
    }
   ],
   "source": [
    "Sd # servers staying independent"
   ]
  },
  {
   "cell_type": "code",
   "execution_count": 10,
   "metadata": {},
   "outputs": [
    {
     "data": {
      "text/plain": [
       "{Server(cost=13, service_rate=9.0, arrival_rate=6.0, free_load_rate=0.67, relative_cost=1.44, delta=1.25),\n",
       " Server(cost=45, service_rate=22.0, arrival_rate=15.0, free_load_rate=0.68, relative_cost=2.05, delta=1.49),\n",
       " Server(cost=53, service_rate=10.0, arrival_rate=6.0, free_load_rate=0.6, relative_cost=5.3, delta=2.4),\n",
       " Server(cost=58, service_rate=7.0, arrival_rate=6.0, free_load_rate=0.86, relative_cost=8.29, delta=3.0),\n",
       " Server(cost=74, service_rate=13.0, arrival_rate=6.0, free_load_rate=0.46, relative_cost=5.69, delta=2.49),\n",
       " Server(cost=75, service_rate=23.0, arrival_rate=18.0, free_load_rate=0.78, relative_cost=3.26, delta=1.88),\n",
       " Server(cost=76, service_rate=13.0, arrival_rate=11.0, free_load_rate=0.85, relative_cost=5.85, delta=2.52),\n",
       " Server(cost=79, service_rate=7.0, arrival_rate=2.0, free_load_rate=0.29, relative_cost=11.29, delta=3.5)}"
      ]
     },
     "execution_count": 10,
     "metadata": {},
     "output_type": "execute_result"
    }
   ],
   "source": [
    "Splus # servers sharing part of their load"
   ]
  },
  {
   "cell_type": "code",
   "execution_count": 11,
   "metadata": {},
   "outputs": [
    {
     "data": {
      "text/plain": [
       "set()"
      ]
     },
     "execution_count": 11,
     "metadata": {},
     "output_type": "execute_result"
    }
   ],
   "source": [
    "S0 # servers passing all of their load"
   ]
  },
  {
   "cell_type": "code",
   "execution_count": 12,
   "metadata": {},
   "outputs": [
    {
     "name": "stdout",
     "output_type": "stream",
     "text": [
      " MSS Load: 0.723\n",
      "\n",
      " Server[ 1]   Initial Load: 0.850 --> Resulting Load: 0.302\n",
      " Server[ 2]   Initial Load: 0.860 --> Resulting Load: 0.169\n",
      " Server[ 3]   Initial Load: 0.440 --> Resulting Load: 0.440\n",
      " Server[ 4]   Initial Load: 0.600 --> Resulting Load: 0.335\n",
      " Server[ 5]   Initial Load: 0.780 --> Resulting Load: 0.479\n",
      " Server[ 6]   Initial Load: 0.210 --> Resulting Load: 0.210\n",
      " Server[ 7]   Initial Load: 0.140 --> Resulting Load: 0.140\n",
      " Server[ 8]   Initial Load: 0.140 --> Resulting Load: 0.140\n",
      " Server[ 9]   Initial Load: 0.200 --> Resulting Load: 0.200\n",
      " Server[10]   Initial Load: 0.090 --> Resulting Load: 0.090\n",
      " Server[11]   Initial Load: 0.170 --> Resulting Load: 0.170\n",
      " Server[12]   Initial Load: 0.290 --> Resulting Load: 0.030\n",
      " Server[13]   Initial Load: 0.460 --> Resulting Load: 0.310\n",
      " Server[14]   Initial Load: 0.480 --> Resulting Load: 0.480\n",
      " Server[15]   Initial Load: 0.090 --> Resulting Load: 0.090\n",
      " Server[16]   Initial Load: 0.130 --> Resulting Load: 0.130\n",
      " Server[17]   Initial Load: 0.620 --> Resulting Load: 0.620\n",
      " Server[18]   Initial Load: 0.230 --> Resulting Load: 0.230\n",
      " Server[19]   Initial Load: 0.110 --> Resulting Load: 0.110\n",
      " Server[20]   Initial Load: 0.670 --> Resulting Load: 0.654\n",
      " Server[21]   Initial Load: 0.250 --> Resulting Load: 0.250\n",
      " Server[22]   Initial Load: 0.380 --> Resulting Load: 0.380\n",
      " Server[23]   Initial Load: 0.620 --> Resulting Load: 0.620\n",
      " Server[24]   Initial Load: 0.330 --> Resulting Load: 0.330\n",
      " Server[25]   Initial Load: 0.680 --> Resulting Load: 0.587\n"
     ]
    }
   ],
   "source": [
    "r0 = System[0].service_rate\n",
    "rho_0 = rho0(r0,Splus,S0)\n",
    "print(' MSS Load: %4.3f' % rho_0)\n",
    "print()\n",
    "for s in System:\n",
    "    if s>0:\n",
    "        server = System[s]\n",
    "        rho_j = rhoj(server,r0,Splus,S0)\n",
    "        print(' Server[%2i]   Initial Load: %4.3f --> Resulting Load: %4.3f' % (s,server.free_load_rate,rho_j))"
   ]
  },
  {
   "cell_type": "code",
   "execution_count": 13,
   "metadata": {},
   "outputs": [
    {
     "data": {
      "image/png": "[encoded data removed]",
      "text/plain": [
       "<Figure size 1080x720 with 1 Axes>"
      ]
     },
     "metadata": {
      "needs_background": "light"
     },
     "output_type": "display_data"
    }
   ],
   "source": [
    "#def PlotLoadChart():\n",
    "    \n",
    "N = n_servers + 1\n",
    "initial_loads = [server.free_load_rate*10 for server in System.values() if server.free_load_rate]\n",
    "\n",
    "ind   = np.arange(N)\n",
    "width = 0.35\n",
    "\n",
    "fig, ax = plt.subplots(figsize=(15,10))\n",
    "ax.grid(linestyle='--',linewidth=0.25)\n",
    "rects1 = ax.bar(ind[1:,], initial_loads, width, color='b')\n",
    "\n",
    "final_loads = [rhoj(server,r0,Splus,S0)*10 for server in System.values() if server.free_load_rate]\n",
    "rectMSS = ax.bar(width/2, rho_0*10, width, color = 'g')\n",
    "rects2 = ax.bar(ind[1:,]+width,final_loads,width,color='y') \n",
    "\n",
    "ax.set_xlabel('Servers')\n",
    "ax.set_ylabel('Loads')\n",
    "ax.set_title(r'Loads before and after MSS (with $\\delta_j$ values)' + '\\nNumber of iterations required: %2i' % it)\n",
    "ax.set_xticks(ind + width / 2)\n",
    "ax.set_xticklabels(['S'+str(i) for i in ind],rotation='vertical',va='top')\n",
    "ax.set_yticks((0,1,2,3,4,5,6,7,8,9,10))\n",
    "ax.set_yticklabels(['0','0.1','0.2','0.3','0.4','0.5','0.6','0.7','0.8','0.9','1.0'])\n",
    "\n",
    "for ix in list(System.keys()):\n",
    "    x = ind[ix]\n",
    "    server = System[ix]\n",
    "    if ix == 0:\n",
    "        y = rho_0*10\n",
    "    else:\n",
    "        y = max([server.free_load_rate,rhoj(server,r0,Splus,S0)])*10\n",
    "    ax.text(x+width/2,.05+y,'%4.2f' % server.delta,ha='center',va='bottom')\n",
    "\n",
    "ax.legend((rects1,rects2,rectMSS),('Initial Loads','Final Loads','MSS Load'))\n",
    "plt.show()"
   ]
  }
 ],
 "metadata": {
  "kernelspec": {
   "display_name": "Python 3",
   "language": "python",
   "name": "python3"
  },
  "language_info": {
   "codemirror_mode": {
    "name": "ipython",
    "version": 3
   },
   "file_extension": ".py",
   "mimetype": "text/x-python",
   "name": "python",
   "nbconvert_exporter": "python",
   "pygments_lexer": "ipython3",
   "version": "3.7.6"
  }
 },
 "nbformat": 4,
 "nbformat_minor": 2
}
