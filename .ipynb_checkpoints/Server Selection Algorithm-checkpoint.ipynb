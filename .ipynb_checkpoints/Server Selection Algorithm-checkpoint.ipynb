{
 "cells": [
  {
   "cell_type": "code",
   "execution_count": null,
   "metadata": {},
   "outputs": [],
   "source": [
    "import random as rd\n",
    "import numpy as np\n",
    "from collections import namedtuple,defaultdict\n",
    "from copy import *\n",
    "import matplotlib.pyplot as plt"
   ]
  },
  {
   "cell_type": "markdown",
   "metadata": {},
   "source": [
    "### Parameters"
   ]
  },
  {
   "cell_type": "code",
   "execution_count": null,
   "metadata": {},
   "outputs": [],
   "source": [
    "# Ask for number of dedicated servers\n",
    "while True:\n",
    "    try:\n",
    "        print('Nº of Dedicated Servers')\n",
    "        n_servers = int(input())\n",
    "        break\n",
    "    except ValueError:\n",
    "        pass"
   ]
  },
  {
   "cell_type": "markdown",
   "metadata": {},
   "source": [
    "Let\n",
    "- $c_j\\in\\mathcal{U}(1,90),\\;\\forall j=0,1,\\cdots,C$\n",
    "- $r_j\\in\\mathcal{U}(5,40),\\;\\forall j=0,1,\\cdots,C$\n",
    "- $\\lambda_j\\in\\mathcal{U}(1,r_j-1),\\;\\forall j=1,2,\\cdots,C$"
   ]
  },
  {
   "cell_type": "code",
   "execution_count": null,
   "metadata": {},
   "outputs": [],
   "source": [
    "costs = [None]*(n_servers+1)\n",
    "serv_rates = [None]*(n_servers+1)\n",
    "arrival_rates = [None]*(n_servers+1)\n",
    "\n",
    "\n",
    "# Set costs and rates randomly\n",
    "rd.seed(n_servers)\n",
    "for j in range(n_servers+1):\n",
    "    c = round(rd.uniform(1,90))\n",
    "    r = np.ceil(rd.uniform(5,40))\n",
    "    costs[j] = c\n",
    "    serv_rates[j] = r\n",
    "    if j > 0:\n",
    "        arrival_rates[j] = round(rd.uniform(1,r-1))"
   ]
  },
  {
   "cell_type": "markdown",
   "metadata": {},
   "source": [
    "### Initial System"
   ]
  },
  {
   "cell_type": "code",
   "execution_count": null,
   "metadata": {},
   "outputs": [],
   "source": [
    "# Set initial system\n",
    "Server = namedtuple('Server','cost,service_rate,arrival_rate,free_load_rate,relative_cost,delta')\n",
    "System = defaultdict(Server)\n",
    "\n",
    "# MSS\n",
    "c = costs[0]\n",
    "r = serv_rates[0]\n",
    "System[0] = Server(c,r,None,None,round(c/r,2),1)\n",
    "\n",
    "# Dedicated servers\n",
    "for n in range(1,n_servers+1):\n",
    "    cs = costs[n]\n",
    "    rs = serv_rates[n]\n",
    "    ls = arrival_rates[n]\n",
    "    flr = round(ls/rs,2)\n",
    "    rc = round(cs/rs,2)\n",
    "    delta = round(np.sqrt(rc/(c/r)),2)\n",
    "    System[n] = Server(cs,rs,ls,flr,rc,delta)"
   ]
  },
  {
   "cell_type": "markdown",
   "metadata": {},
   "source": [
    "### Functions"
   ]
  },
  {
   "cell_type": "code",
   "execution_count": null,
   "metadata": {},
   "outputs": [],
   "source": [
    "def rho0(r0,Splus,S0):\n",
    "    ''' INPUT\n",
    "        r0   : MSS service rate\n",
    "        Splus: set of servers that share part of their load\n",
    "        S0   : set of servers that pass all of their load\n",
    "        \n",
    "        OUTPUT\n",
    "        rho_0: MSS load rate (according to formulae in last chapter) '''\n",
    "    \n",
    "    sum1 = sum([server.service_rate-server.arrival_rate for server in Splus])\n",
    "    sum2 = sum([server.arrival_rate for server in S0])\n",
    "    sum3 = sum([server.service_rate*server.delta for server in Splus])\n",
    "    rho_0 = 1-(r0+sum1-sum2)/(r0+sum3)\n",
    "    return rho_0"
   ]
  },
  {
   "cell_type": "code",
   "execution_count": null,
   "metadata": {},
   "outputs": [],
   "source": [
    "def rhoj(server,r0,Splus,S0):\n",
    "    ''' INPUT\n",
    "        server: server  \n",
    "        r0    : MSS load rate\n",
    "        Splus : set of servers that share part of their load\n",
    "        S0    : set of servers that pass all of their load\n",
    "        \n",
    "        OUTPUT\n",
    "        rho_j : server load rate \n",
    "        '''\n",
    "    if server in S0:\n",
    "        return 0\n",
    "    elif server in Splus:\n",
    "        rho_0 = rho0(r0,Splus,S0)\n",
    "        rho_j = 1-server.delta*(1-rho_0)\n",
    "        return rho_j\n",
    "    else:\n",
    "        return server.free_load_rate"
   ]
  },
  {
   "cell_type": "code",
   "execution_count": null,
   "metadata": {},
   "outputs": [],
   "source": [
    "def ResultingSystem(initial_system):\n",
    "    ''' INPUT\n",
    "        initial_system: servers dictionary, including MSS; each server is a tuple with the following fields\n",
    "                        - cost (c)\n",
    "                        - service rate (r)\n",
    "                        - arrival rate (lambda)\n",
    "                        - initial load (lambda/r)\n",
    "                        - relative cost (c/r)\n",
    "                        - delta (sqrt[(c/r)/(c0/r0)])\n",
    "        OUTPUT\n",
    "        Sd   : set of servers that share nothing\n",
    "        Splus: set of servers that share part of their load\n",
    "        S0   : set of servers that pass all of their load\n",
    "        '''\n",
    "    \n",
    "    n_servers = len(initial_system)\n",
    "    MSS = initial_system[0]\n",
    "    Splus = set(); S0 = set(); Sd = set()\n",
    "    \n",
    "    # If delta_j<=1-lambda_j/r_j ==> server j does not share, else server j will share\n",
    "    for server in range(1,n_servers):\n",
    "        if initial_system[server].delta <= 1-initial_system[server].free_load_rate:\n",
    "            Sd.add(initial_system[server])\n",
    "        else:\n",
    "            Splus.add(initial_system[server])\n",
    "            \n",
    "    n_change = 10\n",
    "    r0 = MSS.service_rate\n",
    "    Sc = deepcopy(Splus)\n",
    "    iteration = 0\n",
    "    \n",
    "    # Check conditions iteratively\n",
    "    while n_change > 0:\n",
    "        iteration += 1\n",
    "        n_change = 0\n",
    "        rho_0 = rho0(r0,Splus,S0)\n",
    "        M = 1/(1-rho_0)  # upper bound for all servers\n",
    "        for server in Sc:\n",
    "            Mj = (1-server.free_load_rate)/(1-rho_0) # lower bound for server j\n",
    "            # from Sd to S+\n",
    "            if server in Sd and server.delta<M and server.delta>Mj:\n",
    "                Splus.add(server)\n",
    "                Sd.remove(server)\n",
    "                n_change += 1\n",
    "            # from Sd to S0\n",
    "            elif server in Sd and server.delta>=M:\n",
    "                S0.add(server)\n",
    "                Sd.remove(server)\n",
    "                n_change += 1\n",
    "            # from S+ to S0\n",
    "            elif server in Splus and server.delta>=M:\n",
    "                S0.add(server)\n",
    "                Splus.remove(server)\n",
    "                n_change += 1\n",
    "            # from S+ to Sd\n",
    "            elif server in Splus and server.delta<=Mj:\n",
    "                Sd.add(server)\n",
    "                Splus.remove(server)\n",
    "                n_change += 1\n",
    "            # from S0 to S+\n",
    "            elif server in S0 and server.delta<M and server.delta>Mj:\n",
    "                Splus.add(server)\n",
    "                S0.remove(server)\n",
    "                n_change += 1\n",
    "            # from S0 to Sd\n",
    "            elif server in S0 and server.delta<=Mj:\n",
    "                Sd.add(server)\n",
    "                S0.remove(server)\n",
    "                n_change += 1\n",
    "    return Sd,Splus,S0,iteration"
   ]
  },
  {
   "cell_type": "markdown",
   "metadata": {},
   "source": [
    "### Run and results"
   ]
  },
  {
   "cell_type": "code",
   "execution_count": null,
   "metadata": {},
   "outputs": [],
   "source": [
    "Sd,Splus,S0,it = ResultingSystem(System)\n",
    "print('Number of iterations required: %i' % it)"
   ]
  },
  {
   "cell_type": "code",
   "execution_count": null,
   "metadata": {},
   "outputs": [],
   "source": [
    "Sd # servers staying independent"
   ]
  },
  {
   "cell_type": "code",
   "execution_count": null,
   "metadata": {},
   "outputs": [],
   "source": [
    "Splus # servers sharing part of their load"
   ]
  },
  {
   "cell_type": "code",
   "execution_count": null,
   "metadata": {},
   "outputs": [],
   "source": [
    "S0 # servers passing all of their load"
   ]
  },
  {
   "cell_type": "code",
   "execution_count": null,
   "metadata": {},
   "outputs": [],
   "source": [
    "r0 = System[0].service_rate\n",
    "rho_0 = rho0(r0,Splus,S0)\n",
    "print(' MSS Load: %4.3f' % rho_0)\n",
    "print()\n",
    "for s in System:\n",
    "    if s>0:\n",
    "        server = System[s]\n",
    "        rho_j = rhoj(server,r0,Splus,S0)\n",
    "        print(' Server[%2i]   Initial Load: %4.3f --> Resulting Load: %4.3f' % (s,server.free_load_rate,rho_j))"
   ]
  },
  {
   "cell_type": "code",
   "execution_count": null,
   "metadata": {},
   "outputs": [],
   "source": [
    "#def PlotLoadChart():\n",
    "    \n",
    "N = n_servers + 1\n",
    "initial_loads = [server.free_load_rate*10 for server in System.values() if server.free_load_rate]\n",
    "\n",
    "ind   = np.arange(N)\n",
    "width = 0.35\n",
    "\n",
    "fig, ax = plt.subplots(figsize=(15,10))\n",
    "ax.grid(linestyle='--',linewidth=0.25)\n",
    "rects1 = ax.bar(ind[1:,], initial_loads, width, color='b')\n",
    "\n",
    "final_loads = [rhoj(server,r0,Splus,S0)*10 for server in System.values() if server.free_load_rate]\n",
    "rectMSS = ax.bar(width/2, rho_0*10, width, color = 'g')\n",
    "rects2 = ax.bar(ind[1:,]+width,final_loads,width,color='y') \n",
    "\n",
    "ax.set_xlabel('Servers')\n",
    "ax.set_ylabel('Loads')\n",
    "ax.set_title(r'Loads before and after MSS (with $\\delta_j$ values)' + '\\nNumber of iterations required: %2i' % it)\n",
    "ax.set_xticks(ind + width / 2)\n",
    "ax.set_xticklabels(['S'+str(i) for i in ind],rotation='vertical',va='top')\n",
    "ax.set_yticks((0,1,2,3,4,5,6,7,8,9,10))\n",
    "ax.set_yticklabels(['0','0.1','0.2','0.3','0.4','0.5','0.6','0.7','0.8','0.9','1.0'])\n",
    "\n",
    "for ix in list(System.keys()):\n",
    "    x = ind[ix]\n",
    "    server = System[ix]\n",
    "    if ix == 0:\n",
    "        y = rho_0*10\n",
    "    else:\n",
    "        y = max([server.free_load_rate,rhoj(server,r0,Splus,S0)])*10\n",
    "    ax.text(x+width/2,.05+y,'%4.2f' % server.delta,ha='center',va='bottom')\n",
    "\n",
    "ax.legend((rects1,rects2,rectMSS),('Initial Loads','Final Loads','MSS Load'))\n",
    "plt.show()"
   ]
  }
 ],
 "metadata": {
  "kernelspec": {
   "display_name": "Python 3",
   "language": "python",
   "name": "python3"
  },
  "language_info": {
   "codemirror_mode": {
    "name": "ipython",
    "version": 3
   },
   "file_extension": ".py",
   "mimetype": "text/x-python",
   "name": "python",
   "nbconvert_exporter": "python",
   "pygments_lexer": "ipython3",
   "version": "3.7.6"
  }
 },
 "nbformat": 4,
 "nbformat_minor": 2
}
